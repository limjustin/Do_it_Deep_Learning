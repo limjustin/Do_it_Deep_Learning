{
  "nbformat": 4,
  "nbformat_minor": 0,
  "metadata": {
    "colab": {
      "name": "Chapter04.ipynb",
      "provenance": [],
      "collapsed_sections": [],
      "authorship_tag": "ABX9TyMqnWEE3W6d2LEmWAMi+n+M",
      "include_colab_link": true
    },
    "kernelspec": {
      "name": "python3",
      "display_name": "Python 3"
    }
  },
  "cells": [
    {
      "cell_type": "markdown",
      "metadata": {
        "id": "view-in-github",
        "colab_type": "text"
      },
      "source": [
        "<a href=\"https://colab.research.google.com/github/limjustin/do_it_deep_learning/blob/master/Chapter04.ipynb\" target=\"_parent\"><img src=\"https://colab.research.google.com/assets/colab-badge.svg\" alt=\"Open In Colab\"/></a>"
      ]
    },
    {
      "cell_type": "markdown",
      "metadata": {
        "id": "J-XEKJdL-B6u",
        "colab_type": "text"
      },
      "source": [
        "##04-1. 초기 인공지능 알고리즘과 로지스틱 회귀\n",
        "\n",
        "#### 퍼셉트론에 대해 알아보기\n",
        "**이진 분류(binary classification)**\n",
        "- 임의의 샘플 데이터를 True나 False로 구분하는 문제\n",
        "\n",
        "**퍼셉트론(Perceptron) 알고리즘**\n",
        "- 직선 방정식을 사용함(w1x1 + w2x2 + b = z) -> 선형 함수\n",
        "- 마지막 단계에서, 샘플을 이진 분류하기 위하여 계단 함수(step function)를 사용\n",
        "- 계단 함수를 통과한 값을 다시 가중치와 절편을 업데이트(학습)하는데 사용 -> 계단 함수의 결과를 학습에 사용\n",
        "- 계단 함수 : z가 0보다 크거나 같으면 1(양성 클래스), 0보다 작으면 -1(음성 클래스)로 분류\n",
        "\n",
        "####아달린에 대해 알아보기\n",
        "**아달린(Adaline)**\n",
        "- 퍼셉트론을 개선한 적응형 선형 뉴런(Adaptive Linear Neuron)\n",
        "- 선형 함수의 결과를 학습에 사용 vs (퍼셉트론) 계단 함수의 결과를 학습에 사용\n",
        "- 역방향 계산이 선형 함수 출력 이후에 진행 vs (퍼셉트론) 계단 함수 출력 이후에 진행\n",
        "\n",
        "#### 로지스틱 회귀에 대해 알아보기\n",
        "**로지스틱 회귀(logistic regression)**\n",
        "- 아달린 + 활성화 함수\n",
        "- 선형 함수와 임계 함수 사이에 활성화 함수가 존재\n",
        "- 활성화 함수를 통과한 값은 a\n",
        "- 로지스틱 회귀의 마지막 단계에서, 임계 함수를 사용하여 예측을 수행\n",
        "- 임계 함수 : 계단 함수와 역할은 비슷, 단 활성화 함수의 출력값을 인풋값으로 한다는 것이 차이점 (원래 같으면 선형 함수의 출력값)\n",
        "\n",
        "##04-2. 시그모이드 함수로 확률 만들기\n",
        "**시그모이드 함수**\n",
        "- 로지스틱 회귀에서 사용하는 활성화 함수\n",
        "- z를 0~1 사이의 확률 값으로 변환시켜주는 역할\n",
        "- **오즈 비(odds ratio)** : 성공 확률과 실패 확률의 비율을 나타냄\n",
        "- **로짓 함수(logit function)** : 오즈 비에 로그 함수를 취해서 만든 함수\n",
        "\n",
        "**로지스틱 회귀**\n",
        "- 로지스틱 회귀의 목표 : 이진 분류\n",
        "- 1. -∞ ~ ∞의 값을 가질 수 있는 z를 조절할 필요 있음\n",
        "  2. 시그모이드 함수를 활성화 함수로 사용하여 0~1 사이의 값을 갖게 함\n",
        "  3. 시그모이드 함수의 확률인 a를 0과 1로 구분하기 위해 임계 함수 사용\n",
        "  4. 입력데이터가 0 또는 1의 값으로 나누어짐\n",
        "\n",
        "## 04-3. 로지스틱 손실 함수를 경사 하강법에 적용하기\n",
        "**목표**\n",
        "- 선형 회귀의 목표 : 정답과 예상값의 오차 제곱이 최소가 되는 가중치와 절편을 찾는 것\n",
        "- 로지스틱 회귀의 목표 : 올바르게 분류된 샘플 데이터의 비율 자체를 높이는 것\n",
        "- 따라서, 가중치의 업데이트를 위해서 로지스틱 손실 함수가 필요\n",
        "\n",
        "**로지스틱 손실 함수의 미분**\n",
        "- 활성화 함수의 결과 값인 a의 값이 우리가 이상적으로 생각하는 값에 도달하게 하려면, 로지스틱 손실 함수의 값을 최소로 해야함\n",
        "- 로지스틱 손실 함수의 미분을 통하여 로지스틱 손실 함수의 값을 최소로 하는 가중치와 절편을 찾을 수 있음\n",
        "- 로지스틱 손실 함수를 가중치에 대하여 미분할 때 연쇄 법칙을 사용할 수 있음\n",
        "- 결과 : 로지스틱 손실 함수의 미분 결과는 제곱 오차 손실 함수의 미분 결과와 동일\n",
        "\n",
        "## 04-4. 분류용 데이터 세트를 준비\n",
        "**유방암 데이터 세트 준비하기**\n"
      ]
    },
    {
      "cell_type": "code",
      "metadata": {
        "id": "QzDMSLWQbICo",
        "colab_type": "code",
        "colab": {}
      },
      "source": [
        "## 1. load_breast_cancer() 함수 호출하기\n",
        "\n",
        "from sklearn.datasets import load_breast_cancer\n",
        "cancer = load_breast_cancer()"
      ],
      "execution_count": 1,
      "outputs": []
    },
    {
      "cell_type": "markdown",
      "metadata": {
        "id": "gNezbvI5eOJM",
        "colab_type": "text"
      },
      "source": [
        "![datasetformat](https://user-images.githubusercontent.com/55044278/88146222-8cc14c80-cc36-11ea-9522-7e3b16d92f97.PNG)"
      ]
    },
    {
      "cell_type": "code",
      "metadata": {
        "id": "CiLo3sNobtFw",
        "colab_type": "code",
        "colab": {
          "base_uri": "https://localhost:8080/",
          "height": 34
        },
        "outputId": "4da8323d-cdf8-4056-f813-64e6cbc9e5ad"
      },
      "source": [
        "## 2. 입력 데이터 확인하기\n",
        "\n",
        "print(cancer.data.shape, cancer.target.shape) ## 569개의 샘플과 30개의 특성이 있음"
      ],
      "execution_count": 2,
      "outputs": [
        {
          "output_type": "stream",
          "text": [
            "(569, 30) (569,)\n"
          ],
          "name": "stdout"
        }
      ]
    },
    {
      "cell_type": "code",
      "metadata": {
        "id": "Zd3uVjVAcbET",
        "colab_type": "code",
        "colab": {
          "base_uri": "https://localhost:8080/",
          "height": 281
        },
        "outputId": "0e12cab8-7ff6-447c-f852-3c5c571dccc6"
      },
      "source": [
        "cancer.data[:3]"
      ],
      "execution_count": 3,
      "outputs": [
        {
          "output_type": "execute_result",
          "data": {
            "text/plain": [
              "array([[1.799e+01, 1.038e+01, 1.228e+02, 1.001e+03, 1.184e-01, 2.776e-01,\n",
              "        3.001e-01, 1.471e-01, 2.419e-01, 7.871e-02, 1.095e+00, 9.053e-01,\n",
              "        8.589e+00, 1.534e+02, 6.399e-03, 4.904e-02, 5.373e-02, 1.587e-02,\n",
              "        3.003e-02, 6.193e-03, 2.538e+01, 1.733e+01, 1.846e+02, 2.019e+03,\n",
              "        1.622e-01, 6.656e-01, 7.119e-01, 2.654e-01, 4.601e-01, 1.189e-01],\n",
              "       [2.057e+01, 1.777e+01, 1.329e+02, 1.326e+03, 8.474e-02, 7.864e-02,\n",
              "        8.690e-02, 7.017e-02, 1.812e-01, 5.667e-02, 5.435e-01, 7.339e-01,\n",
              "        3.398e+00, 7.408e+01, 5.225e-03, 1.308e-02, 1.860e-02, 1.340e-02,\n",
              "        1.389e-02, 3.532e-03, 2.499e+01, 2.341e+01, 1.588e+02, 1.956e+03,\n",
              "        1.238e-01, 1.866e-01, 2.416e-01, 1.860e-01, 2.750e-01, 8.902e-02],\n",
              "       [1.969e+01, 2.125e+01, 1.300e+02, 1.203e+03, 1.096e-01, 1.599e-01,\n",
              "        1.974e-01, 1.279e-01, 2.069e-01, 5.999e-02, 7.456e-01, 7.869e-01,\n",
              "        4.585e+00, 9.403e+01, 6.150e-03, 4.006e-02, 3.832e-02, 2.058e-02,\n",
              "        2.250e-02, 4.571e-03, 2.357e+01, 2.553e+01, 1.525e+02, 1.709e+03,\n",
              "        1.444e-01, 4.245e-01, 4.504e-01, 2.430e-01, 3.613e-01, 8.758e-02]])"
            ]
          },
          "metadata": {
            "tags": []
          },
          "execution_count": 3
        }
      ]
    },
    {
      "cell_type": "code",
      "metadata": {
        "id": "3LeaJHLedHw4",
        "colab_type": "code",
        "colab": {
          "base_uri": "https://localhost:8080/",
          "height": 279
        },
        "outputId": "3ca0acaa-98ca-4cc3-8ba0-2490d2514a7e"
      },
      "source": [
        "## 3. 박스 플롯으로 특성의 사분위 관찰하기\n",
        "\n",
        "import matplotlib.pyplot as plt\n",
        "plt.boxplot(cancer.data)\n",
        "plt.xlabel('feature')\n",
        "plt.ylabel('value')\n",
        "plt.show()"
      ],
      "execution_count": 4,
      "outputs": [
        {
          "output_type": "display_data",
          "data": {
            "image/png": "[encoded data removed]",
            "text/plain": [
              "<Figure size 432x288 with 1 Axes>"
            ]
          },
          "metadata": {
            "tags": [],
            "needs_background": "light"
          }
        }
      ]
    },
    {
      "cell_type": "code",
      "metadata": {
        "id": "gPkhA8icdsi6",
        "colab_type": "code",
        "colab": {
          "base_uri": "https://localhost:8080/",
          "height": 34
        },
        "outputId": "2fa6ae46-f51f-4af1-cd74-a8e029a3ebcb"
      },
      "source": [
        "## 4. 눈에 띄는 특성 살펴보기\n",
        "\n",
        "cancer.feature_names[[3,13,23]] ## 모두 넓이와 관련된 특성들임"
      ],
      "execution_count": 5,
      "outputs": [
        {
          "output_type": "execute_result",
          "data": {
            "text/plain": [
              "array(['mean area', 'area error', 'worst area'], dtype='<U23')"
            ]
          },
          "metadata": {
            "tags": []
          },
          "execution_count": 5
        }
      ]
    },
    {
      "cell_type": "code",
      "metadata": {
        "id": "epFW4DoseqzG",
        "colab_type": "code",
        "colab": {
          "base_uri": "https://localhost:8080/",
          "height": 34
        },
        "outputId": "f66bc11a-3d63-48ff-8958-b67dbc370b9c"
      },
      "source": [
        "## 5. 타깃 데이터 확인하기\n",
        "\n",
        "import numpy as np\n",
        "np.unique(cancer.target, return_counts=True) ## cancer.target의 값은 0과 1만 들어있으며, 타깃 데이터의 고유한 값의 개수를 센 다음 반환한 것\n",
        "                                             ## 212개의 음성 클래스(정상 종양)와 357개의 양성 클래스(악성 종양)"
      ],
      "execution_count": 6,
      "outputs": [
        {
          "output_type": "execute_result",
          "data": {
            "text/plain": [
              "(array([0, 1]), array([212, 357]))"
            ]
          },
          "metadata": {
            "tags": []
          },
          "execution_count": 6
        }
      ]
    },
    {
      "cell_type": "code",
      "metadata": {
        "id": "W5VEOevPfLgu",
        "colab_type": "code",
        "colab": {}
      },
      "source": [
        "## 6. 훈련 데이터 세트 저장하기\n",
        "\n",
        "x = cancer.data\n",
        "y = cancer.target"
      ],
      "execution_count": 7,
      "outputs": []
    },
    {
      "cell_type": "markdown",
      "metadata": {
        "id": "PZb4hGE9loZX",
        "colab_type": "text"
      },
      "source": [
        "## 04-5. 로지스틱 회귀를 위한 뉴런 만들기\n",
        "**모델의 성능 평가를 위한 훈련 세트와 테스트 세트**\n",
        "- 모델의 성능 평가가 필요한 이유 : 잘못된 결과를 초래할 수도 있고, 의미 없는 결과가 나올 수도 있음\n",
        "- 좋은 성능이 나오기 위해서는, 모델을 학습시킨 훈련 데이터 세트로 다시 모델의 성능을 평가하면 됨 -> 훈련 데이터 세트를 두 덩어리로 분리\n",
        "\n",
        "**훈련 데이터 세트를 훈련 세트와 테스트 세트로 나누는 규칙**\n",
        "- 훈련 세트가 테스트 세트보다 더 많아야 함\n",
        "- 양성, 음성 클래스가 훈련 세트나 테스트 세트의 어느 한쪽에 몰리지 않도록 골고루 섞어야 함\n",
        "\n",
        "#### 훈련 세트와 테스트 세트로 나누기"
      ]
    },
    {
      "cell_type": "code",
      "metadata": {
        "id": "xMz7gh9InWmD",
        "colab_type": "code",
        "colab": {}
      },
      "source": [
        "## 1. train_test_split() 함수로 훈련 데이터 세트 나누기\n",
        "\n",
        "from sklearn.model_selection import train_test_split ## 기본적으로 입력된 훈련 데이터 세트를 훈련 세트 75%, 테스트 세트 25%의 비율로 나눠줌\n",
        "x_train, x_test, y_train, y_test = train_test_split(x, y, stratify = y, test_size = 0.2, random_state = 42)\n",
        "\n",
        "## stratify는 훈련 데이터를 나눌 때 클래스 비율을 동일하게 해주는 역할\n",
        "## test_size(or train_size)는 비율을 조절하고 싶을 때 사용 (기본적으로는 75:25)\n",
        "## random_state는 무작위로 데이터 세트를 섞은 다음 나누는데, 나눈 결과를 항상 일정하게 하기 위해서 사용"
      ],
      "execution_count": 8,
      "outputs": []
    },
    {
      "cell_type": "code",
      "metadata": {
        "id": "N5qAkEdzp1Sa",
        "colab_type": "code",
        "colab": {
          "base_uri": "https://localhost:8080/",
          "height": 34
        },
        "outputId": "b7c7fda0-829e-4ab1-85d1-6c7300d0ca18"
      },
      "source": [
        "## 2. 결과 확인하기\n",
        "\n",
        "print(x_train.shape, x_test.shape)"
      ],
      "execution_count": 9,
      "outputs": [
        {
          "output_type": "stream",
          "text": [
            "(455, 30) (114, 30)\n"
          ],
          "name": "stdout"
        }
      ]
    },
    {
      "cell_type": "code",
      "metadata": {
        "id": "srRovOKYqk3V",
        "colab_type": "code",
        "colab": {
          "base_uri": "https://localhost:8080/",
          "height": 34
        },
        "outputId": "2104891a-ca18-4d78-9eef-5d7acb487221"
      },
      "source": [
        "## 3. unique() 함수로 훈련 세트의 타깃 확인하기\n",
        "\n",
        "import numpy as np\n",
        "np.unique(y_train, return_counts = True)"
      ],
      "execution_count": 10,
      "outputs": [
        {
          "output_type": "execute_result",
          "data": {
            "text/plain": [
              "(array([0, 1]), array([170, 285]))"
            ]
          },
          "metadata": {
            "tags": []
          },
          "execution_count": 10
        }
      ]
    },
    {
      "cell_type": "markdown",
      "metadata": {
        "id": "TUWOxPnCrxnf",
        "colab_type": "text"
      },
      "source": [
        "#### 로지스틱 회귀 구현하기"
      ]
    },
    {
      "cell_type": "code",
      "metadata": {
        "id": "yNb1UD9Zr0pZ",
        "colab_type": "code",
        "colab": {}
      },
      "source": [
        "class LogisticNeuron:\n",
        "\n",
        "  def __init__(self):\n",
        "    self.w = None\n",
        "    self.b = None\n",
        "\n",
        "  def forpass(self, x):\n",
        "    z = np.sum(x*self.w) + self.b   ## 직선 방정식을 계산함 그리고 가중치와 입력 특성의 곱을 모두 더하기 위해 np.sum() 사용\n",
        "    return z\n",
        "\n",
        "  def backprop(self, x, err):\n",
        "    w_grad = x * err    ## 가중치에 대한 그레이디언트를 계산\n",
        "    b_grad = 1 * err    ## 절편에 대한 그레이디언트를 계산\n",
        "    return w_grad, b_grad"
      ],
      "execution_count": 11,
      "outputs": []
    },
    {
      "cell_type": "markdown",
      "metadata": {
        "id": "5WcNHjxE_CnJ",
        "colab_type": "text"
      },
      "source": [
        "#### 훈련하는 메소드 구현하기"
      ]
    },
    {
      "cell_type": "code",
      "metadata": {
        "id": "TOALHoo_GNUg",
        "colab_type": "code",
        "colab": {}
      },
      "source": [
        "## 1. fit() 메소드 구현하기\n",
        "\n",
        "def fit(self, x, y, epochs=100) :\n",
        "  self.w = np.ones(x.shape[1])    ## 가중치 초기화\n",
        "  self.b = 0    ## 절편 초기화\n",
        "  for i in range(epochs) :    ## epochs 만큼 반복\n",
        "    for x_i, y_i in zip(x, y) :   ## 모든 샘플에 대해 반복\n",
        "      z = self.forpass(x_i)   ## 정방향 계산\n",
        "      a = self.activation(z)    ## 활성화 함수 적용\n",
        "      err = -(y_i - a)    ## 오차 계산\n",
        "      w_grad, b_grad = self.backprop(x_i, err)    ## 역방향 계산\n",
        "      self.w -= w_grad    ## 가중치 업데이트\n",
        "      self.b -= b_grad    ## 절편 업데이트"
      ],
      "execution_count": 12,
      "outputs": []
    },
    {
      "cell_type": "code",
      "metadata": {
        "id": "gf0aG2y2IEZp",
        "colab_type": "code",
        "colab": {}
      },
      "source": [
        "## 2. activation() 메소드 구현하기\n",
        "def activation(self, z) :\n",
        "  a = 1 / (1 + np.exp(-z))    ## 시그모이드 함수 계산\n",
        "  return a"
      ],
      "execution_count": 13,
      "outputs": []
    },
    {
      "cell_type": "markdown",
      "metadata": {
        "id": "pIKsMhWXJPSr",
        "colab_type": "text"
      },
      "source": [
        "#### 예측하는 메소드 구현하기\n",
        "**구현의 이유**\n",
        "- 여러 개의 샘플을 한꺼번에 예측하려면 forpass() 메소드를 여러 번 호출해야 함\n"
      ]
    },
    {
      "cell_type": "code",
      "metadata": {
        "id": "ByLNpSqNJajk",
        "colab_type": "code",
        "colab": {}
      },
      "source": [
        "## 1. predict() 메소드 구현하기\n",
        "\n",
        "def predict(self, x) :\n",
        "  z = [self.forpass(x_i) for x_i in x]    ## 선형 함수 적용\n",
        "  a = self.activation(np.array(z))        ## 활성화 함수 적용\n",
        "  return a > 0.5                          ## 계단 함수 적용"
      ],
      "execution_count": 14,
      "outputs": []
    },
    {
      "cell_type": "code",
      "metadata": {
        "id": "xRXJRaVLJ26F",
        "colab_type": "code",
        "colab": {
          "base_uri": "https://localhost:8080/",
          "height": 52
        },
        "outputId": "e977f001-4ed3-4f9b-9d52-0e2f50b94bd5"
      },
      "source": [
        "## 전체 정리 및 훈련 코드\n",
        "\n",
        "class LogisticNeuron:\n",
        "\n",
        "  def __init__(self):\n",
        "    self.w = None\n",
        "    self.b = None\n",
        "\n",
        "  def forpass(self, x):\n",
        "    z = np.sum(x*self.w) + self.b   ## 직선 방정식을 계산함 그리고 가중치와 입력 특성의 곱을 모두 더하기 위해 np.sum() 사용\n",
        "    return z\n",
        "\n",
        "  def backprop(self, x, err):\n",
        "    w_grad = x * err    ## 가중치에 대한 그레이디언트를 계산\n",
        "    b_grad = 1 * err    ## 절편에 대한 그레이디언트를 계산\n",
        "    return w_grad, b_grad\n",
        "\n",
        "  def activation(self, z) :\n",
        "    a = 1 / (1 + np.exp(-z))    ## 시그모이드 함수 계산\n",
        "    return a\n",
        "\n",
        "  def fit(self, x, y, epochs=100) :\n",
        "    self.w = np.ones(x.shape[1])    ## 가중치 초기화\n",
        "    self.b = 0    ## 절편 초기화\n",
        "    for i in range(epochs) :    ## epochs 만큼 반복\n",
        "      for x_i, y_i in zip(x, y) :   ## 모든 샘플에 대해 반복\n",
        "        z = self.forpass(x_i)   ## 정방향 계산\n",
        "        a = self.activation(z)    ## 활성화 함수 적용\n",
        "        err = -(y_i - a)    ## 오차 계산\n",
        "        w_grad, b_grad = self.backprop(x_i, err)    ## 역방향 계산\n",
        "        self.w -= w_grad    ## 가중치 업데이트\n",
        "        self.b -= b_grad    ## 절편 업데이트\n",
        "\n",
        "  def activation(self, z) :\n",
        "    a = 1 / (1 + np.exp(-z))    ## 시그모이드 함수 계산\n",
        "    return a\n",
        "\n",
        "  def predict(self, x) :\n",
        "    z = [self.forpass(x_i) for x_i in x]    ## 선형 함수 적용\n",
        "    a = self.activation(np.array(z))        ## 활성화 함수 적용\n",
        "    return a > 0.5                          ## 계단 함수 적용\n",
        "\n",
        "## 1. 모델 훈련하기\n",
        "neuron = LogisticNeuron()\n",
        "neuron.fit(x_train, y_train)    ## 모델 훈련시키기\n",
        "\n",
        "## 2. 테스트 세트 사용해 모델의 정확도 평가하기\n",
        "np.mean(neuron.predict(x_test) == y_test)"
      ],
      "execution_count": 16,
      "outputs": [
        {
          "output_type": "stream",
          "text": [
            "/usr/local/lib/python3.6/dist-packages/ipykernel_launcher.py:35: RuntimeWarning: overflow encountered in exp\n"
          ],
          "name": "stderr"
        },
        {
          "output_type": "execute_result",
          "data": {
            "text/plain": [
              "0.8245614035087719"
            ]
          },
          "metadata": {
            "tags": []
          },
          "execution_count": 16
        }
      ]
    },
    {
      "cell_type": "markdown",
      "metadata": {
        "id": "wFEmusaCNtbm",
        "colab_type": "text"
      },
      "source": [
        "## 04-6. 로지스틱 회귀 뉴런으로 단일층 신경망 만들기\n",
        "\n",
        "#### 단일층 신경망 구현하기"
      ]
    },
    {
      "cell_type": "code",
      "metadata": {
        "id": "AALR0eOeQQWU",
        "colab_type": "code",
        "colab": {}
      },
      "source": [
        "class SingleLayer :\n",
        "\n",
        "  def __init__(self) :\n",
        "    self.w = None\n",
        "    self.b = None\n",
        "    self.losses = []    ## 손실 함수의 결괎값을 저장할 리스트\n",
        "\n",
        "  def forpass(self, x) :\n",
        "    z = np.sum(x * self.w) + self.b\n",
        "    return z\n",
        "\n",
        "  def backprop(self, x, err) :\n",
        "    w_grad = x * err\n",
        "    b_grad = 1 * err\n",
        "    return w_grad, b_grad\n",
        "\n",
        "  def activation(self, z) :\n",
        "    a = 1 / (1 + np.exp(-z))\n",
        "    return a\n",
        "\n",
        "  def fit(self, x, y, epochs=100) :\n",
        "    self.w = np.ones(x.shape[1])\n",
        "    self.b = 0\n",
        "    for i in range(epochs) :\n",
        "      loss = 0\n",
        "      indexes = np.random.permutation(np.arange(len(x)))    ## 인덱스를 섞는 과정 -> 가중치 최적값의 탐색 과정이 다양해짐 -> 제대로 된 최적값 찾을 수 있어\n",
        "      for i in indexes :\n",
        "        z = self.forpass(x[i])\n",
        "        a = self.activation(z)\n",
        "        err = -(y[i] - a)\n",
        "        w_grad, b_grad = self.backprop(x[i], err)\n",
        "        self.w -= w_grad\n",
        "        self.b -= b_grad\n",
        "        a = np.clip(a, 1e-10, 1-1e-10)    ## 안전한 로그 계산을 위해 클리핑한 후 손실을 누적\n",
        "        loss += -(y[i]*np.log(a)+(1-y[i])*np.log(1-a))    ## 에포크마다 평균 손실을 저장\n",
        "      self.losses.append(loss/len(y))\n",
        "\n",
        "  def predict(self, x) :\n",
        "      z = [self.forpass(x_i) for x_i in x]\n",
        "      return np.array(z) > 0    ## z와 크기 비교만을 통해서 계단 함수 적용\n",
        "\n",
        "  def score(self, x, y) :   ## score 메소드 추가 - 정확도 산정\n",
        "      return np.mean(self.predict(x) == y)"
      ],
      "execution_count": 20,
      "outputs": []
    },
    {
      "cell_type": "markdown",
      "metadata": {
        "id": "KgzA7e-8S4Jj",
        "colab_type": "text"
      },
      "source": [
        "#### 단일층 신경망 훈련하기"
      ]
    },
    {
      "cell_type": "code",
      "metadata": {
        "id": "zh-S4E52S6LO",
        "colab_type": "code",
        "colab": {
          "base_uri": "https://localhost:8080/",
          "height": 52
        },
        "outputId": "7c41cdfc-c8b5-464f-efac-d9531b81f519"
      },
      "source": [
        "## 1. 단일층 신경망 훈련하고 정확도 출력하기\n",
        "\n",
        "layer = SingleLayer()\n",
        "layer.fit(x_train, y_train)\n",
        "layer.score(x_test, y_test)   ## 에포크마다 훈련 세트를 무작위로 섞어 손실 함수의 값을 줄였기 때문에 정확도 상승"
      ],
      "execution_count": 23,
      "outputs": [
        {
          "output_type": "stream",
          "text": [
            "/usr/local/lib/python3.6/dist-packages/ipykernel_launcher.py:18: RuntimeWarning: overflow encountered in exp\n"
          ],
          "name": "stderr"
        },
        {
          "output_type": "execute_result",
          "data": {
            "text/plain": [
              "0.9385964912280702"
            ]
          },
          "metadata": {
            "tags": []
          },
          "execution_count": 23
        }
      ]
    },
    {
      "cell_type": "code",
      "metadata": {
        "id": "cQeL8opLTiH2",
        "colab_type": "code",
        "colab": {
          "base_uri": "https://localhost:8080/",
          "height": 279
        },
        "outputId": "4402250a-2541-4b8d-80b0-b600a6ad9d5e"
      },
      "source": [
        "## 2. 손실 함수 누적값 확인하기\n",
        "\n",
        "plt.plot(layer.losses)\n",
        "plt.xlabel('epoch')\n",
        "plt.ylabel('loss')\n",
        "plt.show()"
      ],
      "execution_count": 24,
      "outputs": [
        {
          "output_type": "display_data",
          "data": {
            "image/png": "[encoded data removed]",
            "text/plain": [
              "<Figure size 432x288 with 1 Axes>"
            ]
          },
          "metadata": {
            "tags": [],
            "needs_background": "light"
          }
        }
      ]
    },
    {
      "cell_type": "markdown",
      "metadata": {
        "id": "8mgm0lPeUNbd",
        "colab_type": "text"
      },
      "source": [
        "## 04-7. 사이킷런으로 로지스틱 회귀 수행하기\n",
        "\n",
        "#### 사이킷런으로 경사 하강법 적용하기"
      ]
    },
    {
      "cell_type": "code",
      "metadata": {
        "id": "vz5UFIAYUV_g",
        "colab_type": "code",
        "colab": {}
      },
      "source": [
        "## 1. 로지스틱 손실 함수 지정하기\n",
        "\n",
        "from sklearn.linear_model import SGDClassifier\n",
        "sgd = SGDClassifier(loss = 'log', max_iter = 100, tol = 1e-3, random_state = 42)"
      ],
      "execution_count": 28,
      "outputs": []
    },
    {
      "cell_type": "code",
      "metadata": {
        "id": "hi1Zbax8UzDl",
        "colab_type": "code",
        "colab": {
          "base_uri": "https://localhost:8080/",
          "height": 34
        },
        "outputId": "803f4f13-85be-4d7b-861f-7a00ff9d08d0"
      },
      "source": [
        "## 2. 사이킷런으로 훈련하고 평가하기\n",
        "\n",
        "sgd.fit(x_train, y_train)\n",
        "sgd.score(x_test, y_t#est)"
      ],
      "execution_count": 29,
      "outputs": [
        {
          "output_type": "execute_result",
          "data": {
            "text/plain": [
              "0.8333333333333334"
            ]
          },
          "metadata": {
            "tags": []
          },
          "execution_count": 29
        }
      ]
    },
    {
      "cell_type": "code",
      "metadata": {
        "id": "snUxHA3qVWgY",
        "colab_type": "code",
        "colab": {
          "base_uri": "https://localhost:8080/",
          "height": 34
        },
        "outputId": "4ae65831-ecf8-4f70-d5d6-8fc1cd799f31"
      },
      "source": [
        "## 3. 사이킷런으로 예측하기\n",
        "\n",
        "sgd.predict(x_test[0:10])"
      ],
      "execution_count": 30,
      "outputs": [
        {
          "output_type": "execute_result",
          "data": {
            "text/plain": [
              "array([0, 1, 0, 0, 0, 0, 1, 0, 0, 0])"
            ]
          },
          "metadata": {
            "tags": []
          },
          "execution_count": 30
        }
      ]
    }
  ]
}
