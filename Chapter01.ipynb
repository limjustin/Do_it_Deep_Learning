{
  "nbformat": 4,
  "nbformat_minor": 0,
  "metadata": {
    "colab": {
      "name": "Chapter01.ipynb",
      "provenance": [],
      "collapsed_sections": [],
      "authorship_tag": "ABX9TyO1kFb/lE6pjYUwFU5QwqpQ",
      "include_colab_link": true
    },
    "kernelspec": {
      "name": "python3",
      "display_name": "Python 3"
    }
  },
  "cells": [
    {
      "cell_type": "markdown",
      "metadata": {
        "id": "view-in-github",
        "colab_type": "text"
      },
      "source": [
        "<a href=\"https://colab.research.google.com/github/limjustin/do_it_deep_learning/blob/master/Chapter01.ipynb\" target=\"_parent\"><img src=\"https://colab.research.google.com/assets/colab-badge.svg\" alt=\"Open In Colab\"/></a>"
      ]
    },
    {
      "cell_type": "markdown",
      "metadata": {
        "id": "zvYOrg1KO1JH",
        "colab_type": "text"
      },
      "source": [
        "## Chapter 01 딥러닝을 소개합니다\n",
        "\n",
        "####01-1. 인공지능\n",
        "**인공지능(Artificial Intelligence)**\n",
        "- '사람의 지능을 만들기 위한 시스템이나 프로그램'\n",
        "- **강 인공지능(strong AI)** : 사람과 구분이 안 될 정도로 강한 성능을 가진 인공지능\n",
        "- ex) 아이언맨 자비스\n",
        "- **약 인공지능(weak AI)** : 특정 영역에서 작업을 수행하는 인공지능\n",
        "- ex) 테슬라 자율주행 자동차, 아이폰 시리, 구글 인공지능 스피커 구글 홈\n",
        "\n",
        "\n",
        "#### 01-2. 머신러닝\n",
        "**머신러닝(Machine Learning)**\n",
        "- '기계 학습'\n",
        "- 학습 : 데이터의 규칙을 컴퓨터 스스로 찾아내는 것\n",
        "- 머신러닝의 학습 방식 종류 : 지도 학습, 비지도 학습, 강화 학습\n",
        "- **지도 학습(supervised learning)** : 입력과 타깃으로 모델을 훈련\n",
        "- **비지도 학습(unsupervised learning)** : 타깃이 없는 훈련 데이터를 사용\n",
        "- **강화 학습(reinforcement learning)** : 특정 환경에 최적화된 행동을 수행하고 수행에 대한 '보상'과 '현재 상태'를 받음\n",
        "\n",
        "**용어**\n",
        "- 규칙 : '가중치'와 '절편'을 의미\n",
        "- 모델 : 훈련 데이터로 학습된 머신러닝 알고리즘\n",
        "- 손실 함수 : 모델이 예측한 값과 실제 타깃값의 차이만큼 모델의 규칙을 수정. 최소값을 효율적으로 찾기 위해서는 최적화 알고리즘이 필요\n",
        "\n",
        "#### 01-3. 딥러닝\n",
        "- 머신러닝 알고리즘 중 하나인 인공신경망으로 만든 것\n",
        "- 인공신경망을 여러 겹 쌓은 모습에서 유래\n",
        "- 뉴런은 자극을 받아들여 다음 뉴런으로 자극을 전달하듯이, 딥러닝도 이와 같은 원리로 입력과 출력을 제어\n",
        "- 딥러닝은 '인지'와 관련된 문제를 잘 해결함 (이미지, 음성, 텍스트 등)\n",
        "- 머신러닝은 정형화된 데이터에 대한 문제를 잘 해결함 (암환자의 검진 데이터, 회사의 매출 데이터 등)\n",
        "\n",
        "\n"
      ]
    }
  ]
}