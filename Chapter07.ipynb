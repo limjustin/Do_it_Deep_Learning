{
  "nbformat": 4,
  "nbformat_minor": 0,
  "metadata": {
    "colab": {
      "name": "Chapter07.ipynb",
      "provenance": [],
      "collapsed_sections": [],
      "authorship_tag": "ABX9TyMsf5NDfhcQXX4ALorcLtlR",
      "include_colab_link": true
    },
    "kernelspec": {
      "name": "python3",
      "display_name": "Python 3"
    }
  },
  "cells": [
    {
      "cell_type": "markdown",
      "metadata": {
        "id": "view-in-github",
        "colab_type": "text"
      },
      "source": [
        "<a href=\"https://colab.research.google.com/github/limjustin/do_it_deep_learning/blob/master/Chapter07.ipynb\" target=\"_parent\"><img src=\"https://colab.research.google.com/assets/colab-badge.svg\" alt=\"Open In Colab\"/></a>"
      ]
    },
    {
      "cell_type": "markdown",
      "metadata": {
        "id": "LV2w6eouFPKp",
        "colab_type": "text"
      },
      "source": [
        "## 07-1 여러 개의 이미지를 분류하는 다층 신경망 만들기\n",
        "\n",
        "#### 다중 분류 신경망\n",
        "**핵심 개념**\n",
        "- 소프트맥스(softmax) 함수\n",
        "- 크로스 엔트로피(cross-entropy) 손실 함수\n",
        "\n",
        "**개념**\n",
        "- 이진 분류에서는 출력층에 하나의 뉴런을 두었지만, 다중 분류에서는 출력층에 **여러 개의 뉴런**을 놓으면 됨\n",
        "- 출력층에 **분류할 클래스 개수만큼** 뉴런을 배치\n",
        "\n",
        "**주의점 및 해결방안**\n",
        "- 활성화 출력의 합이 1이 아니면 비교하기 어렵\n",
        "- 소프트맥스 함수 : 출력층의 출력 강도를 정규화해 줌 **(=전체 출력값의 합을 1로 만든다는 의미)**\n",
        "- **최종 목표** : 도출된 확률 값을 이용하여 가중치와 절편을 업데이트하기 위한 손실 함수가 필요 -> 이 손실 함수는 '크로스 엔트로피'를 사용할 것임\n",
        "\n",
        "\n",
        "#### 크로스 엔트로피 손실 함수\n",
        "**개념**\n",
        "- 로지스틱 손실 함수의 '일반화 버전'\n",
        "- 로지스틱 손실 함수는 크로스 엔트로피 손실 함수의 이진 분류 버전\n",
        "  - 크로스 엔트로피 손실 함수의 시그마 기호만 빼고, 양성 클래스와 음성 클래스에 대해 나누어 놓은 것임\n",
        "- **크로스 엔트로피 손실 함수의 미분 결과는 로지스틱 손실 함수의 미분 결과와 동일함**\n",
        "\n",
        "#### 다중 분류 신경망 구현"
      ]
    },
    {
      "cell_type": "code",
      "metadata": {
        "id": "nGw3esnyIKsV",
        "colab_type": "code",
        "colab": {}
      },
      "source": [
        "class MultiClassNetwork:\n",
        "\n",
        "  def __init__(self, units=10, batch_size=32, learning_rate=0.1, l1=0, l2=0):\n",
        "    self.units = units    # 은닉층의 뉴런 개수\n",
        "    self.batch_size = batch_size    # 배치 크기\n",
        "    self.w1 = None    # 은닉층의 가중치\n",
        "    self.b1 = None    # 은닉층의 절편\n",
        "    self.w2 = None    # 출력층의 가중치\n",
        "    self.b2 = None    # 출력층의 절편\n",
        "    self.a1 = None    # 은닉층의 활성화 출력\n",
        "    self.losses = []    # 훈련 손실\n",
        "    self.val_losses = []    # 검증 손실\n",
        "    self.lr = learning_rate   # 학습률\n",
        "    self.l1 = l1    # L1 손실 하이퍼파라미터\n",
        "    self.l2 = l2    # L2 손실 하이퍼파라미터\n",
        "\n",
        "  def forpass(self, x):\n",
        "    z1 = np.dot(x, self.w1) + self.b1   # 첫 번째 층의 선형식 계산\n",
        "    self.a1 = self.sigmoid(z1)    # 활성화 함수 적용\n",
        "    z2 = np.dot(self.a1, self.w2) + self.b2   # 두 번째 층의 선형식 계산\n",
        "    return z2\n",
        "\n",
        "  def backprop(self, x, err):\n",
        "    m = len(x)    # 샘플 개수\n",
        "    # 출력층의 가중치와 절편에 대한 그레이디언트 계산\n",
        "    w2_grad = np.dot(self.a1.T, err) / m\n",
        "    b2_grad = np.sum(err) / m\n",
        "    # 시그모이드 함수까지 그레이디언트 계산\n",
        "    err_to_hidden = np.dot(err, self.w2.T) * self.a1 * (1 - self.a1)\n",
        "    # 은닉층의 가중치와 절편에 대한 그레이디언트 계산\n",
        "    w1_grad = np.dot(x.T, err_to_hidden) / m\n",
        "    b1_grad = np.sum(err_to_hidden, axis = 0) / m\n",
        "    return w1_grad, b1_grad, w2_grad, b2_grad\n",
        "\n",
        "  def sigmoid(self, z):\n",
        "    a = 1 / (1 + np.exp(-z))    # 시그모이드 계산\n",
        "    return a\n",
        "\n",
        "  def softmax(self, z):\n",
        "    # 소프트맥스 함수\n",
        "    exp_z = np.exp(z)\n",
        "    return exp_z / np.sum(exp_z, axis = 1).reshape(-1, 1)\n",
        "\n",
        "  def init_weights(self, n_features, n_classes):\n",
        "    self.w1 = np.random.normal(0, 1, (n_features, self.units))    # (특성 개수, 은닉층의 크기)\n",
        "    self.b1 = np.zeros(self.units)    # 은닉층의 크기\n",
        "    self.w2 = np.random.normal(0, 1, (self.units, n_classes))   # (은닉층의 크기, 클래스 개수)\n",
        "    self.b2 = np.zeros(n_classes)\n",
        "\n",
        "  def fit(self, x, y, epochs=100, x_val=None, y_val=None):\n",
        "    np.random.seed(42)\n",
        "    self.init_weights(x.shape[1], y.shape[1])   # 은닉층과 출력층의 가중치 초기화\n",
        "    # epochs 만큼 반복\n",
        "    for i in range(epochs):\n",
        "      loss = 0\n",
        "      print('.', end='')\n",
        "      # 제너레이터 함수에서 반환한 미니 배치를 순환\n",
        "      for x_batch, y_batch in self.gen_batch(x, y):\n",
        "        a = self.training(x_batch, y_batch)\n",
        "        # 안전한 로그 계산을 위한 클리핑\n",
        "        a = np.clip(a, 1e-10, 1-1e-10)\n",
        "        # 로그 손실과 규제 손실을 더하여 리스트에 추가\n",
        "        loss += np.sum(-y_batch*np.log(a))\n",
        "      self.losses.append((loss+self.reg_loss()) / len(x))\n",
        "      # 검증 세트에 대한 손실 계산\n",
        "      self.update_val_loss(x_val, y_val)\n",
        "\n",
        "  # 미니 배치 제너레이터 함수\n",
        "  def gen_batch(self, x, y):\n",
        "    length = len(x)\n",
        "    bins = length // self.batch_size   # 미니 배치 횟수\n",
        "    if length % self.batch_size:\n",
        "      bins += 1   # 나누어 떨어지지 않을 때\n",
        "    indexes = np.random.permutation(np.arange(len(x)))    # 인덱스 섞기\n",
        "    x = x[indexes]\n",
        "    y = y[indexes]\n",
        "    for i in range(bins):\n",
        "      start = self.batch_size * i\n",
        "      end = self.batch_size * (i + 1)\n",
        "      yield x[start:end], y[start:end]    # batch_size만큼 슬라이싱하여 반환\n",
        "\n",
        "  def training(self, x, y):\n",
        "    m = len(x)    # 샘플 개수 저장\n",
        "    z = self.forpass(x)   # 정방향 계산 수행\n",
        "    a = self.softmax(z)   # 활성화 함수 적용\n",
        "    err = -(y - a)    # 오차 계산\n",
        "    # 오차를 역전파하여 그레이디언트 계산\n",
        "    w1_grad, b1_grad, w2_grad, b2_grad = self.backprop(x, err)\n",
        "    # 그레이디언트에서 페널티 항의 미분값 빼기\n",
        "    w1_grad += (self.l1 * np.sign(self.w1) + self.l2 * self.w1) / m\n",
        "    w2_grad += (self.l1 * np.sign(self.w2) + self.l2 * self.w2) / m\n",
        "    # 은닉층의 가중치와 절편을 업데이트\n",
        "    self.w1 -= self.lr * w1_grad\n",
        "    self.b1 -= self.lr * b1_grad\n",
        "    # 출력층의 가중치와 절편을 업데이트\n",
        "    self.w2 -= self.lr * w2_grad\n",
        "    self.b2 -= self.lr * b2_grad\n",
        "    return a\n",
        "\n",
        "  def predict(self, x):\n",
        "    z = self.forpass(x)   # 정방향 계산 수행\n",
        "    return np.argmax(z, axis=1)   # 가장 큰 값의 인덱스 반환\n",
        "\n",
        "  def score(self, x, y):\n",
        "    # 예측과 타깃 열 벡터를 비교하여 True의 비율을 반환\n",
        "    return np.mean(self.predict(x) == np.argmax(y, axis=1))\n",
        "\n",
        "  def reg_loss(self):\n",
        "    # 은닉층과 출력층의 가중치에 규제를 적용\n",
        "    return self.l1 * (np.sum(np.abs(self.w1)) + np.sum(np.abs(self.w2))) + \\\n",
        "    self.l2 / 2 * (np.sum(self.w1**2) + np.sum(self.w2**2))\n",
        "\n",
        "  def update_val_loss(self, x_val, y_val):\n",
        "    z = self.forpass(x_val)   # 정방향 계산 수행\n",
        "    a = self.softmax(z)   # 활성화 함수 적용\n",
        "    a = np.clip(a, 1e-10, 1-1e-10)    # 출력값 클리핑\n",
        "    # 크로스 엔트로피 손실과 규제 손실을 더하여 리스트에 추가\n",
        "    val_loss = np.sum(-y_val * np.log(a))\n",
        "    self.val_losses.append((val_loss + self.reg_loss()) / len(y_val))"
      ],
      "execution_count": 33,
      "outputs": []
    },
    {
      "cell_type": "markdown",
      "metadata": {
        "id": "GYoRr3peUtkK",
        "colab_type": "text"
      },
      "source": [
        "#### 의류 이미지 분류 및 준비\n",
        "- MNIST 데이터 세트 사용"
      ]
    },
    {
      "cell_type": "code",
      "metadata": {
        "id": "8Gx7aGobdRXS",
        "colab_type": "code",
        "colab": {
          "base_uri": "https://localhost:8080/",
          "height": 35
        },
        "outputId": "23e97141-fbd6-49e8-af58-56e2d5247a74"
      },
      "source": [
        "## 1. 텐서플로 임포트 및 버전 확인\n",
        "\n",
        "import tensorflow as tf\n",
        "tf.__version__"
      ],
      "execution_count": 4,
      "outputs": [
        {
          "output_type": "execute_result",
          "data": {
            "application/vnd.google.colaboratory.intrinsic+json": {
              "type": "string"
            },
            "text/plain": [
              "'2.0.0'"
            ]
          },
          "metadata": {
            "tags": []
          },
          "execution_count": 4
        }
      ]
    },
    {
      "cell_type": "code",
      "metadata": {
        "id": "zg8USgdtdwTZ",
        "colab_type": "code",
        "colab": {
          "base_uri": "https://localhost:8080/",
          "height": 158
        },
        "outputId": "6df7ed48-9c66-40a2-d878-150dd4d60f56"
      },
      "source": [
        "## 2. 패션 MNIST 데이터 세트 불러오기\n",
        "\n",
        "(x_train_all, y_train_all), (x_test, y_test) = tf.keras.datasets.fashion_mnist.load_data()"
      ],
      "execution_count": 5,
      "outputs": [
        {
          "output_type": "stream",
          "text": [
            "Downloading data from https://storage.googleapis.com/tensorflow/tf-keras-datasets/train-labels-idx1-ubyte.gz\n",
            "32768/29515 [=================================] - 0s 0us/step\n",
            "Downloading data from https://storage.googleapis.com/tensorflow/tf-keras-datasets/train-images-idx3-ubyte.gz\n",
            "26427392/26421880 [==============================] - 0s 0us/step\n",
            "Downloading data from https://storage.googleapis.com/tensorflow/tf-keras-datasets/t10k-labels-idx1-ubyte.gz\n",
            "8192/5148 [===============================================] - 0s 0us/step\n",
            "Downloading data from https://storage.googleapis.com/tensorflow/tf-keras-datasets/t10k-images-idx3-ubyte.gz\n",
            "4423680/4422102 [==============================] - 0s 0us/step\n"
          ],
          "name": "stdout"
        }
      ]
    },
    {
      "cell_type": "code",
      "metadata": {
        "id": "XMIvMcLAeOVt",
        "colab_type": "code",
        "colab": {
          "base_uri": "https://localhost:8080/",
          "height": 34
        },
        "outputId": "f056c5f6-bac9-4760-9609-750979ed2af4"
      },
      "source": [
        "## 3. 훈련 세트의 크기 확인하기\n",
        "\n",
        "print(x_train_all.shape, y_train_all.shape)"
      ],
      "execution_count": 6,
      "outputs": [
        {
          "output_type": "stream",
          "text": [
            "(60000, 28, 28) (60000,)\n"
          ],
          "name": "stdout"
        }
      ]
    },
    {
      "cell_type": "code",
      "metadata": {
        "id": "Bq6AL1zbeycJ",
        "colab_type": "code",
        "colab": {
          "base_uri": "https://localhost:8080/",
          "height": 265
        },
        "outputId": "277a07ce-e862-4e06-a113-d148b4cdc4a7"
      },
      "source": [
        "## 4. imshow() 함수로 샘플 이미지 확인하기\n",
        "\n",
        "import matplotlib.pyplot as plt\n",
        "plt.imshow(x_train_all[0], cmap='gray')\n",
        "plt.show()"
      ],
      "execution_count": 10,
      "outputs": [
        {
          "output_type": "display_data",
          "data": {
            "image/png": "[encoded data removed]",
            "text/plain": [
              "<Figure size 432x288 with 1 Axes>"
            ]
          },
          "metadata": {
            "tags": [],
            "needs_background": "light"
          }
        }
      ]
    },
    {
      "cell_type": "code",
      "metadata": {
        "id": "H1Eqto6wfxdv",
        "colab_type": "code",
        "colab": {
          "base_uri": "https://localhost:8080/",
          "height": 52
        },
        "outputId": "006a1c32-ce05-48ae-f4dc-692f9dba7963"
      },
      "source": [
        "## 5. 타깃의 내용과 의미 확인하기\n",
        "\n",
        "print(y_train_all[:10])\n",
        "\n",
        "class_names = ['티셔츠/윗도리', '바지', '스웨터', '드레스', '코트', '샌들', '셔츠', '스니커즈', '가방', '앵클부츠']\n",
        "print(class_names[y_train_all[0]])"
      ],
      "execution_count": 14,
      "outputs": [
        {
          "output_type": "stream",
          "text": [
            "[9 0 0 3 0 2 7 2 5 5]\n",
            "앵클부츠\n"
          ],
          "name": "stdout"
        }
      ]
    },
    {
      "cell_type": "code",
      "metadata": {
        "id": "o1UvVjFDgNDv",
        "colab_type": "code",
        "colab": {
          "base_uri": "https://localhost:8080/",
          "height": 34
        },
        "outputId": "6ef0f147-03f9-4aca-fe5b-5bb061b60c23"
      },
      "source": [
        "## 6. 타깃 분포 확인하기\n",
        "\n",
        "import numpy as np\n",
        "np.bincount(y_train_all)"
      ],
      "execution_count": 16,
      "outputs": [
        {
          "output_type": "execute_result",
          "data": {
            "text/plain": [
              "array([6000, 6000, 6000, 6000, 6000, 6000, 6000, 6000, 6000, 6000])"
            ]
          },
          "metadata": {
            "tags": []
          },
          "execution_count": 16
        }
      ]
    },
    {
      "cell_type": "code",
      "metadata": {
        "id": "adLvpkK-hJwK",
        "colab_type": "code",
        "colab": {
          "base_uri": "https://localhost:8080/",
          "height": 52
        },
        "outputId": "0cfe5d0a-658e-4d98-c1e6-34921358ec8b"
      },
      "source": [
        "## 7. 훈련 세트와 검증 세트 고르게 나누기\n",
        "\n",
        "from sklearn.model_selection import train_test_split\n",
        "x_train, x_val, y_train, y_val = train_test_split(x_train_all, y_train_all, stratify = y_train_all, test_size = 0.2, random_state = 42)\n",
        "\n",
        "print(np.bincount(y_train))\n",
        "print(np.bincount(y_val))"
      ],
      "execution_count": 20,
      "outputs": [
        {
          "output_type": "stream",
          "text": [
            "[4800 4800 4800 4800 4800 4800 4800 4800 4800 4800]\n",
            "[1200 1200 1200 1200 1200 1200 1200 1200 1200 1200]\n"
          ],
          "name": "stdout"
        }
      ]
    },
    {
      "cell_type": "code",
      "metadata": {
        "id": "7zTCdXZuhxK-",
        "colab_type": "code",
        "colab": {}
      },
      "source": [
        "## 8. 입력 데이터 정규화하기\n",
        "\n",
        "x_train = x_train / 255\n",
        "x_val = x_val / 255"
      ],
      "execution_count": 21,
      "outputs": []
    },
    {
      "cell_type": "code",
      "metadata": {
        "id": "xerCTFx7h28K",
        "colab_type": "code",
        "colab": {
          "base_uri": "https://localhost:8080/",
          "height": 34
        },
        "outputId": "9811bd31-12e2-4f20-c1cf-ed8970adde7a"
      },
      "source": [
        "## 9. 훈련 세트와 검증 세트의 차원 변경하기\n",
        "\n",
        "x_train = x_train.reshape(-1, 784)\n",
        "x_val = x_val.reshape(-1, 784)\n",
        "\n",
        "## MultiClassNetwork는 1차원 배열의 샘플을 기대하기 때문에, 이를 1차원 배열로 바꿔주어야 함\n",
        "\n",
        "print(x_train.shape, x_val.shape)"
      ],
      "execution_count": 22,
      "outputs": [
        {
          "output_type": "stream",
          "text": [
            "(48000, 784) (12000, 784)\n"
          ],
          "name": "stdout"
        }
      ]
    },
    {
      "cell_type": "markdown",
      "metadata": {
        "id": "NF6cgwaGkSZn",
        "colab_type": "text"
      },
      "source": [
        "#### 타깃 데이터를 준비하고 다중 분류 신경망 훈련\n",
        "\n",
        "```\n",
        "1. 타깃을 원-핫 인코딩으로 변환하기\n",
        "이유\n",
        "- 출력 뉴런의 개수가 10개가 되어야 하는데, y_train, y_val에 저장된 값은 정수 값 하나로 10개의 출력 뉴런에 대응되지 않음\n",
        "- 타깃의 정수 값에 해당하는 원소는 1, 나머지 원소는 모두 0으로 하여 10개의 원소를 가진 배열로 크기를 늘리는 방법을 사용\n",
        "- 이를 원-핫 인코딩(one-hot encoding)이라고 함\n",
        "- 타깃값을 가지고 있는 1차원 정수 배열을 2차원 배열로 만들 수 있음\n",
        "```\n"
      ]
    },
    {
      "cell_type": "code",
      "metadata": {
        "id": "JiKmXV04lhqc",
        "colab_type": "code",
        "colab": {
          "base_uri": "https://localhost:8080/",
          "height": 70
        },
        "outputId": "3fea4695-b49b-48c8-fe29-5b96f264ff58"
      },
      "source": [
        "## 2. to_categorical 함수 사용하여 원-핫 인코딩하기 예시\n",
        "\n",
        "tf.keras.utils.to_categorical([0, 1, 3])    # but 문자열로 된 레이블은 인코딩 불가"
      ],
      "execution_count": 23,
      "outputs": [
        {
          "output_type": "execute_result",
          "data": {
            "text/plain": [
              "array([[1., 0., 0., 0.],\n",
              "       [0., 1., 0., 0.],\n",
              "       [0., 0., 0., 1.]], dtype=float32)"
            ]
          },
          "metadata": {
            "tags": []
          },
          "execution_count": 23
        }
      ]
    },
    {
      "cell_type": "code",
      "metadata": {
        "id": "4NUOuZftl5ZM",
        "colab_type": "code",
        "colab": {
          "base_uri": "https://localhost:8080/",
          "height": 52
        },
        "outputId": "27c728bf-1dd9-4532-abf7-164e73cb2dec"
      },
      "source": [
        "## 3. to_categorical 함수 사용하여 원-핫 인코딩하기\n",
        "\n",
        "y_train_encoded = tf.keras.utils.to_categorical(y_train)\n",
        "y_val_encoded = tf.keras.utils.to_categorical(y_val)\n",
        "\n",
        "print(y_train_encoded.shape, y_val_encoded.shape)\n",
        "print(y_train[0], y_train_encoded[0])"
      ],
      "execution_count": 25,
      "outputs": [
        {
          "output_type": "stream",
          "text": [
            "(48000, 10) (12000, 10)\n",
            "6 [0. 0. 0. 0. 0. 0. 1. 0. 0. 0.]\n"
          ],
          "name": "stdout"
        }
      ]
    },
    {
      "cell_type": "code",
      "metadata": {
        "id": "YTlc6Jqdmash",
        "colab_type": "code",
        "colab": {
          "base_uri": "https://localhost:8080/",
          "height": 34
        },
        "outputId": "12cf1eb2-f796-4708-d875-a91ee513b0e6"
      },
      "source": [
        "## 4. MultiClassNetwork 클래스로 다중 분류 신경망 훈련하기\n",
        "\n",
        "fc = MultiClassNetwork(units=100, batch_size=256)\n",
        "fc.fit(x_train, y_train_encoded, x_val=x_val, y_val=y_val_encoded, epochs=40)"
      ],
      "execution_count": 34,
      "outputs": [
        {
          "output_type": "stream",
          "text": [
            "........................................"
          ],
          "name": "stdout"
        }
      ]
    },
    {
      "cell_type": "code",
      "metadata": {
        "id": "j7ircbb4oEzH",
        "colab_type": "code",
        "colab": {
          "base_uri": "https://localhost:8080/",
          "height": 297
        },
        "outputId": "52b34e20-cdb8-488e-b4fb-7195ded3f27d"
      },
      "source": [
        "## 5. 훈련 손실, 검증 손실 그래프와 훈련 모델 점수 확인하기\n",
        "\n",
        "plt.plot(fc.losses)\n",
        "plt.plot(fc.val_losses)\n",
        "plt.ylabel('loss')\n",
        "plt.xlabel('iteration')\n",
        "plt.legend(['train_loss', 'val_loss'])\n",
        "plt.show()\n",
        "\n",
        "fc.score(x_val, y_val_encoded)"
      ],
      "execution_count": 37,
      "outputs": [
        {
          "output_type": "display_data",
          "data": {
            "image/png": "[encoded data removed]",
            "text/plain": [
              "<Figure size 432x288 with 1 Axes>"
            ]
          },
          "metadata": {
            "tags": [],
            "needs_background": "light"
          }
        },
        {
          "output_type": "execute_result",
          "data": {
            "text/plain": [
              "0.8150833333333334"
            ]
          },
          "metadata": {
            "tags": []
          },
          "execution_count": 37
        }
      ]
    },
    {
      "cell_type": "markdown",
      "metadata": {
        "id": "68YyqteitBXT",
        "colab_type": "text"
      },
      "source": [
        "## 07-2. 텐서플로와 케라스를 사용하여 신경망 만들기\n",
        "\n",
        "#### 케라스는 무엇인가\n",
        "**개념**\n",
        "- 딥러닝 패키지를 편리하게 사용하기 위해 만들어진 Wrapper 패키지\n",
        "- 구글은 케라스를 아예 텐서플로 안에 포함시킴\n",
        "\n",
        "**케라스의 장점**\n",
        "- 직관적으로 인공신경망의 층을 설계 가능\n",
        "- Sequential 클래스 : **인공신경망 모델**을 만드는 역할 (순차적으로 층을 쌓은 신경망 **모델**)\n",
        "- Dense 클래스 : **완전 연결층**을 만드는 역할 (모델에 포함된 **완전 연결층**)\n",
        "- 즉, **모델과 층이 명확하게 구분**됨\n",
        "\n",
        "#### Sequential 클래스의 기초 사용 방법\n",
        "**Sequential 객체에 층을 추가하는 방법**\n",
        "```\n",
        "from tensorflow.keras import Sequential\n",
        "from tensorflow.keras.layers import Dense\n",
        "model = Sequential([Dense(...), ...])  # 객체를 생성할 때 Dense 클래스로 만든 층을 추가할 수 있음\n",
        "```\n",
        "\n",
        "**add() 메서드를 사용해 층을 추가하는 방법**\n",
        "```\n",
        "model = Sequential()\n",
        "model.add(Dense(...))  # add 메서드를 사용하여 전달 가능\n",
        "model.add(Dense(...))\n",
        "```\n",
        "\n",
        "#### Dense 클래스의 사용 방법\n",
        "**뉴런의 개수를 지정하는 매개변수 unit**\n",
        "```\n",
        "Dense(unit=100, ...)  # 은닉층의 뉴런 개수\n",
        "```\n",
        "\n",
        "**활성화 함수를 지정하는 매개변수 activation**\n",
        "```\n",
        "Dense(100, activation='sigmoid')  # 활성화 함수 종류 지정 (Default : None)\n",
        "```\n",
        "\n",
        "#### 모델의 최적화 알고리즘과 손실 함수 설정하기\n",
        "**목적**\n",
        "- 모델을 훈련하기 위해서는 **최적화 알고리즘**이나 **손실 함수**를 지정해야 함\n",
        "- 다중 분류의 최적화 알고리즘 : **경사 하강법 알고리즘**\n",
        "- 다중 분류의 손실 함수 : **크로스 엔트로피 손실 함수**\n",
        "\n",
        "**최적화 알고리즘을 지정하는 매개변수 optimizer**\n",
        "```\n",
        "model.compile(optimizer='sgd', ...)  # 최적화 알고리즘은 매개변수 optimizer를 사용\n",
        "                                     # 'sgd'로 지정하면 기본 경사 하강법을 최적화 알고리즘으로 사용\n",
        "```\n",
        "\n",
        "**손실 함수를 지정하는 매개변수 loss**\n",
        "```\n",
        "model.compile(optimizer='sgd', loss='categorical_crossentropy')\n",
        "\n",
        "## 제곱 오차 : loss의 매개 변수는 'mse'\n",
        "## 로지스틱 손실 함수 : 'binary_crossentropy'\n",
        "## 크로스 엔트로피 손실 함수 : 'categorical_crossentropy'\n",
        "```\n",
        "\n",
        "#### 최종적으로 모델을 훈련하고 예측하는 과정\n",
        "```\n",
        "model = Sequential()  # Sequential 클래스의 객체 생성\n",
        "model.add(Dense(...))  # add() 메서드 사용하여 층을 추가\n",
        "model.add(Dense(100, activation='sigmoid'))  # 뉴런의 개수와 활성화 함수 지정\n",
        "model.compile(optimizer = '...', loss = '...')  # 최적화 알고리즘과 손실 함수 설정\n",
        "model.fit(X, y, epochs = ...)  # 모델을 훈련하는 메서드\n",
        "model.predict(X)  # 모델을 예측하는 메서드\n",
        "model.evaluate(X, y)  # 모델을 평가하는 메서드\n",
        "```\n",
        "\n",
        "#### 케라스로 다중 분류 신경망 만들어보기"
      ]
    },
    {
      "cell_type": "code",
      "metadata": {
        "id": "y1QaA7ha2Fju",
        "colab_type": "code",
        "colab": {}
      },
      "source": [
        "## 1. 모델 생성하기\n",
        "\n",
        "from tensorflow.keras import Sequential\n",
        "from tensorflow.keras.layers import Dense\n",
        "model = Sequential()    # Sequential 객체 생성"
      ],
      "execution_count": 38,
      "outputs": []
    },
    {
      "cell_type": "code",
      "metadata": {
        "id": "BaUm1ExJ2Yk6",
        "colab_type": "code",
        "colab": {}
      },
      "source": [
        "## 2. 은닉층과 출력층을 모델에 추가하기\n",
        "\n",
        "model.add(Dense(100, activation='sigmoid', input_shape=(784,)))   # 은닉층의 유닛 개수 : 100개 / 활성화 함수 : 시그모이드 함수 / 입력 데이터 개수 : 784개(28*28)\n",
        "model.add(Dense(10, activation='softmax'))    # 출력층의 유닛 개수 : 10개 / 활성화 함수 : 소프트맥스 함수"
      ],
      "execution_count": 39,
      "outputs": []
    },
    {
      "cell_type": "code",
      "metadata": {
        "id": "kZnVgpNq3SFB",
        "colab_type": "code",
        "colab": {}
      },
      "source": [
        "## 3. 최적화 알고리즘과 손실 함수 지정하기\n",
        "\n",
        "model.compile(optimizer='sgd', loss='categorical_crossentropy', metrics=['accuracy'])\n",
        "## 최적화 알고리즘 : 경사 하강법 (sgd)\n",
        "## 손실 함수 : 크로스 엔트로피 손실 함수 (categorical_crossentropy)\n",
        "## metrics 매개변수 : 모델을 훈련하며 기록한 정보를 History 객체에 담아 반환하는데,\n",
        "##                    Default는 손실값(loss)을 기록. 모델의 정확도에 대한 기록을 살펴보려면 'accuracy'를 추가해야 함"
      ],
      "execution_count": 40,
      "outputs": []
    },
    {
      "cell_type": "code",
      "metadata": {
        "id": "4Laj7Whr4nb0",
        "colab_type": "code",
        "colab": {
          "base_uri": "https://localhost:8080/",
          "height": 1000
        },
        "outputId": "7421debc-307a-4a8d-e39f-6b87a450446f"
      },
      "source": [
        "## 4. 모델 훈련하기\n",
        "\n",
        "history = model.fit(x_train, y_train_encoded, epochs=40, validation_data=(x_val, y_val_encoded))\n",
        "## 40번의 에포크 동안 훈련 진행\n",
        "## 훈련하는 도안 검증 세트에 대한 손실과 정확도를 계산\n",
        "## validation_data 매개변수에 검증 세트를 튜플로 전달하여 이를 진행\n",
        "## fit() 메서드는 훈련 세트와 검증 세트에서 측정한 값들을 History 클래스 객체(history)에 담아 반환"
      ],
      "execution_count": 41,
      "outputs": [
        {
          "output_type": "stream",
          "text": [
            "Train on 48000 samples, validate on 12000 samples\n",
            "Epoch 1/40\n",
            "48000/48000 [==============================] - 4s 85us/sample - loss: 1.3737 - accuracy: 0.6480 - val_loss: 0.9485 - val_accuracy: 0.7366\n",
            "Epoch 2/40\n",
            "48000/48000 [==============================] - 3s 72us/sample - loss: 0.8332 - accuracy: 0.7446 - val_loss: 0.7477 - val_accuracy: 0.7573\n",
            "Epoch 3/40\n",
            "48000/48000 [==============================] - 3s 72us/sample - loss: 0.7083 - accuracy: 0.7641 - val_loss: 0.6639 - val_accuracy: 0.7773\n",
            "Epoch 4/40\n",
            "48000/48000 [==============================] - 3s 72us/sample - loss: 0.6459 - accuracy: 0.7787 - val_loss: 0.6137 - val_accuracy: 0.7906\n",
            "Epoch 5/40\n",
            "48000/48000 [==============================] - 3s 72us/sample - loss: 0.6048 - accuracy: 0.7932 - val_loss: 0.5784 - val_accuracy: 0.8028\n",
            "Epoch 6/40\n",
            "48000/48000 [==============================] - 3s 71us/sample - loss: 0.5745 - accuracy: 0.8034 - val_loss: 0.5520 - val_accuracy: 0.8112\n",
            "Epoch 7/40\n",
            "48000/48000 [==============================] - 3s 73us/sample - loss: 0.5516 - accuracy: 0.8095 - val_loss: 0.5321 - val_accuracy: 0.8164\n",
            "Epoch 8/40\n",
            "48000/48000 [==============================] - 3s 72us/sample - loss: 0.5332 - accuracy: 0.8161 - val_loss: 0.5149 - val_accuracy: 0.8215\n",
            "Epoch 9/40\n",
            "48000/48000 [==============================] - 3s 71us/sample - loss: 0.5185 - accuracy: 0.8211 - val_loss: 0.5026 - val_accuracy: 0.8260\n",
            "Epoch 10/40\n",
            "48000/48000 [==============================] - 3s 72us/sample - loss: 0.5063 - accuracy: 0.8249 - val_loss: 0.4923 - val_accuracy: 0.8297\n",
            "Epoch 11/40\n",
            "48000/48000 [==============================] - 3s 72us/sample - loss: 0.4958 - accuracy: 0.8281 - val_loss: 0.4811 - val_accuracy: 0.8310\n",
            "Epoch 12/40\n",
            "48000/48000 [==============================] - 3s 72us/sample - loss: 0.4872 - accuracy: 0.8310 - val_loss: 0.4763 - val_accuracy: 0.8331\n",
            "Epoch 13/40\n",
            "48000/48000 [==============================] - 3s 71us/sample - loss: 0.4794 - accuracy: 0.8339 - val_loss: 0.4671 - val_accuracy: 0.8355\n",
            "Epoch 14/40\n",
            "48000/48000 [==============================] - 3s 72us/sample - loss: 0.4727 - accuracy: 0.8358 - val_loss: 0.4597 - val_accuracy: 0.8384\n",
            "Epoch 15/40\n",
            "48000/48000 [==============================] - 3s 70us/sample - loss: 0.4665 - accuracy: 0.8372 - val_loss: 0.4544 - val_accuracy: 0.8390\n",
            "Epoch 16/40\n",
            "48000/48000 [==============================] - 3s 71us/sample - loss: 0.4608 - accuracy: 0.8392 - val_loss: 0.4496 - val_accuracy: 0.8397\n",
            "Epoch 17/40\n",
            "48000/48000 [==============================] - 3s 71us/sample - loss: 0.4557 - accuracy: 0.8413 - val_loss: 0.4482 - val_accuracy: 0.8416\n",
            "Epoch 18/40\n",
            "48000/48000 [==============================] - 3s 71us/sample - loss: 0.4511 - accuracy: 0.8421 - val_loss: 0.4409 - val_accuracy: 0.8441\n",
            "Epoch 19/40\n",
            "48000/48000 [==============================] - 3s 71us/sample - loss: 0.4467 - accuracy: 0.8441 - val_loss: 0.4387 - val_accuracy: 0.8459\n",
            "Epoch 20/40\n",
            "48000/48000 [==============================] - 3s 71us/sample - loss: 0.4427 - accuracy: 0.8441 - val_loss: 0.4338 - val_accuracy: 0.8472\n",
            "Epoch 21/40\n",
            "48000/48000 [==============================] - 3s 71us/sample - loss: 0.4390 - accuracy: 0.8458 - val_loss: 0.4312 - val_accuracy: 0.8466\n",
            "Epoch 22/40\n",
            "48000/48000 [==============================] - 3s 72us/sample - loss: 0.4354 - accuracy: 0.8478 - val_loss: 0.4273 - val_accuracy: 0.8511\n",
            "Epoch 23/40\n",
            "48000/48000 [==============================] - 3s 71us/sample - loss: 0.4321 - accuracy: 0.8479 - val_loss: 0.4238 - val_accuracy: 0.8499\n",
            "Epoch 24/40\n",
            "48000/48000 [==============================] - 3s 71us/sample - loss: 0.4289 - accuracy: 0.8493 - val_loss: 0.4223 - val_accuracy: 0.8495\n",
            "Epoch 25/40\n",
            "48000/48000 [==============================] - 3s 72us/sample - loss: 0.4259 - accuracy: 0.8496 - val_loss: 0.4229 - val_accuracy: 0.8503\n",
            "Epoch 26/40\n",
            "48000/48000 [==============================] - 3s 72us/sample - loss: 0.4232 - accuracy: 0.8508 - val_loss: 0.4156 - val_accuracy: 0.8537\n",
            "Epoch 27/40\n",
            "48000/48000 [==============================] - 3s 70us/sample - loss: 0.4203 - accuracy: 0.8524 - val_loss: 0.4157 - val_accuracy: 0.8535\n",
            "Epoch 28/40\n",
            "48000/48000 [==============================] - 3s 71us/sample - loss: 0.4178 - accuracy: 0.8525 - val_loss: 0.4105 - val_accuracy: 0.8553\n",
            "Epoch 29/40\n",
            "48000/48000 [==============================] - 3s 71us/sample - loss: 0.4152 - accuracy: 0.8544 - val_loss: 0.4095 - val_accuracy: 0.8554\n",
            "Epoch 30/40\n",
            "48000/48000 [==============================] - 3s 72us/sample - loss: 0.4130 - accuracy: 0.8545 - val_loss: 0.4082 - val_accuracy: 0.8560\n",
            "Epoch 31/40\n",
            "48000/48000 [==============================] - 3s 72us/sample - loss: 0.4108 - accuracy: 0.8551 - val_loss: 0.4050 - val_accuracy: 0.8579\n",
            "Epoch 32/40\n",
            "48000/48000 [==============================] - 3s 70us/sample - loss: 0.4082 - accuracy: 0.8562 - val_loss: 0.4029 - val_accuracy: 0.8562\n",
            "Epoch 33/40\n",
            "48000/48000 [==============================] - 3s 71us/sample - loss: 0.4062 - accuracy: 0.8559 - val_loss: 0.4029 - val_accuracy: 0.8588\n",
            "Epoch 34/40\n",
            "48000/48000 [==============================] - 3s 71us/sample - loss: 0.4040 - accuracy: 0.8577 - val_loss: 0.3997 - val_accuracy: 0.8589\n",
            "Epoch 35/40\n",
            "48000/48000 [==============================] - 3s 71us/sample - loss: 0.4022 - accuracy: 0.8579 - val_loss: 0.3983 - val_accuracy: 0.8593\n",
            "Epoch 36/40\n",
            "48000/48000 [==============================] - 3s 71us/sample - loss: 0.4002 - accuracy: 0.8587 - val_loss: 0.3969 - val_accuracy: 0.8586\n",
            "Epoch 37/40\n",
            "48000/48000 [==============================] - 3s 71us/sample - loss: 0.3982 - accuracy: 0.8591 - val_loss: 0.3953 - val_accuracy: 0.8602\n",
            "Epoch 38/40\n",
            "48000/48000 [==============================] - 3s 71us/sample - loss: 0.3961 - accuracy: 0.8601 - val_loss: 0.3938 - val_accuracy: 0.8605\n",
            "Epoch 39/40\n",
            "48000/48000 [==============================] - 3s 71us/sample - loss: 0.3947 - accuracy: 0.8604 - val_loss: 0.3922 - val_accuracy: 0.8620\n",
            "Epoch 40/40\n",
            "48000/48000 [==============================] - 3s 71us/sample - loss: 0.3927 - accuracy: 0.8611 - val_loss: 0.3908 - val_accuracy: 0.8613\n"
          ],
          "name": "stdout"
        }
      ]
    },
    {
      "cell_type": "code",
      "metadata": {
        "id": "krbNwuhx6L6p",
        "colab_type": "code",
        "colab": {
          "base_uri": "https://localhost:8080/",
          "height": 34
        },
        "outputId": "4935d7dc-725c-41cc-f990-7b2ff8aa0554"
      },
      "source": [
        "## 5. history 딕셔너리의 측정 지표\n",
        "\n",
        "print(history.history.keys())\n",
        "## loss : 훈련 세트의 손실\n",
        "## accuracy : 훈련 세트의 정확도\n",
        "## val_loss : 검증 세트의 손실\n",
        "## val_accuracy : 검증 세트의 정확도"
      ],
      "execution_count": 42,
      "outputs": [
        {
          "output_type": "stream",
          "text": [
            "dict_keys(['loss', 'accuracy', 'val_loss', 'val_accuracy'])\n"
          ],
          "name": "stdout"
        }
      ]
    },
    {
      "cell_type": "code",
      "metadata": {
        "id": "3DIhTXpR6fZK",
        "colab_type": "code",
        "colab": {
          "base_uri": "https://localhost:8080/",
          "height": 541
        },
        "outputId": "b8594e71-6f98-4c96-8721-34efad79451c"
      },
      "source": [
        "## 6. 훈련 세트와 검증 세트의 손실 그래프와 정확도\n",
        "\n",
        "plt.plot(history.history['loss'])\n",
        "plt.plot(history.history['val_loss'])\n",
        "plt.ylabel('loss')\n",
        "plt.xlabel('epoch')\n",
        "plt.legend(['train_loss', 'val_loss'])\n",
        "plt.show()\n",
        "\n",
        "plt.plot(history.history['accuracy'])\n",
        "plt.plot(history.history['val_accuracy'])\n",
        "plt.ylabel('accuracy')\n",
        "plt.xlabel('epoch')\n",
        "plt.legend(['train_accuracy', 'val_accuracy'])\n",
        "plt.show()"
      ],
      "execution_count": 44,
      "outputs": [
        {
          "output_type": "display_data",
          "data": {
            "image/png": "[encoded data removed]",
            "text/plain": [
              "<Figure size 432x288 with 1 Axes>"
            ]
          },
          "metadata": {
            "tags": [],
            "needs_background": "light"
          }
        },
        {
          "output_type": "display_data",
          "data": {
            "image/png": "[encoded data removed]",
            "text/plain": [
              "<Figure size 432x288 with 1 Axes>"
            ]
          },
          "metadata": {
            "tags": [],
            "needs_background": "light"
          }
        }
      ]
    },
    {
      "cell_type": "code",
      "metadata": {
        "id": "_OFhZEl47X6x",
        "colab_type": "code",
        "colab": {
          "base_uri": "https://localhost:8080/",
          "height": 34
        },
        "outputId": "2c0a5276-64b2-4583-8226-640098ab6fbd"
      },
      "source": [
        "## 7. 검증 세트 정확도 계산하기\n",
        "\n",
        "loss, accuracy = model.evaluate(x_val, y_val_encoded, verbose=0)\n",
        "print(accuracy)   # 위에서 구현한 MultiClassNetwork에 비해 성능이 증가하긴 함\n",
        "## 이미지 데이터에 잘 맞는 모델은 합성곱 신경망(convolution neural network)"
      ],
      "execution_count": 47,
      "outputs": [
        {
          "output_type": "stream",
          "text": [
            "0.8613333\n"
          ],
          "name": "stdout"
        }
      ]
    }
  ]
}