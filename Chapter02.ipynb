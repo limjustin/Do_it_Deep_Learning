{
  "nbformat": 4,
  "nbformat_minor": 0,
  "metadata": {
    "colab": {
      "name": "Chapter02.ipynb",
      "provenance": [],
      "collapsed_sections": [],
      "authorship_tag": "ABX9TyMqEnOLsUZ8FUVAn3uNa8P9",
      "include_colab_link": true
    },
    "kernelspec": {
      "name": "python3",
      "display_name": "Python 3"
    }
  },
  "cells": [
    {
      "cell_type": "markdown",
      "metadata": {
        "id": "view-in-github",
        "colab_type": "text"
      },
      "source": [
        "<a href=\"https://colab.research.google.com/github/limjustin/do_it_deep_learning/blob/master/Chapter02.ipynb\" target=\"_parent\"><img src=\"https://colab.research.google.com/assets/colab-badge.svg\" alt=\"Open In Colab\"/></a>"
      ]
    },
    {
      "cell_type": "markdown",
      "metadata": {
        "id": "DEmkeX6kuCxI",
        "colab_type": "text"
      },
      "source": [
        "## 02-1. 구글 코랩(Google Colab)\n",
        "\n",
        "https://colab.research.google.com/\n",
        "\n",
        "## 02-2. 딥러닝을 위한 도구\n",
        "**What is Numpy?**\n",
        "- 행렬이나 일반적으로 대규모 다차원 배열을 쉽게 처리 할 수 있도록 지원하는 파이썬의 라이브러리\n",
        "- 데이터 구조 외에도 수치 계산을 위해 효율적으로 구현된 기능을 제공\n",
        "\n",
        "#### 넘파이 준비 및 배열 만들기 예제"
      ]
    },
    {
      "cell_type": "code",
      "metadata": {
        "id": "diPq6eY6u1lT",
        "colab_type": "code",
        "colab": {
          "base_uri": "https://localhost:8080/",
          "height": 34
        },
        "outputId": "09b1786f-4b8a-4ed9-eafc-902da6afcc2c"
      },
      "source": [
        "## 1. 코랩에서 Numpy 임포트하고 버전 확인하기\n",
        "\n",
        "import numpy as np\n",
        "print(np.__version__)"
      ],
      "execution_count": 2,
      "outputs": [
        {
          "output_type": "stream",
          "text": [
            "1.18.5\n"
          ],
          "name": "stdout"
        }
      ]
    },
    {
      "cell_type": "code",
      "metadata": {
        "id": "k4eCQ2S1vK3B",
        "colab_type": "code",
        "colab": {
          "base_uri": "https://localhost:8080/",
          "height": 52
        },
        "outputId": "0e50efe7-07b6-4515-f4ef-8c238b9b32d6"
      },
      "source": [
        "## 2. array() 함수로 2차원 배열 만들기\n",
        "\n",
        "my_arr = np.array([[10, 20, 30], [40, 50, 60]])\n",
        "print(my_arr)"
      ],
      "execution_count": 4,
      "outputs": [
        {
          "output_type": "stream",
          "text": [
            "[[10 20 30]\n",
            " [40 50 60]]\n"
          ],
          "name": "stdout"
        }
      ]
    },
    {
      "cell_type": "code",
      "metadata": {
        "id": "2vfPdUVmvZVv",
        "colab_type": "code",
        "colab": {
          "base_uri": "https://localhost:8080/",
          "height": 34
        },
        "outputId": "1519fa86-1f8c-42c7-aac7-b802e71a8dd9"
      },
      "source": [
        "## 3. type() 함수로 넘파이 배열인지 확인하기\n",
        "\n",
        "type(my_arr)"
      ],
      "execution_count": 5,
      "outputs": [
        {
          "output_type": "execute_result",
          "data": {
            "text/plain": [
              "numpy.ndarray"
            ]
          },
          "metadata": {
            "tags": []
          },
          "execution_count": 5
        }
      ]
    },
    {
      "cell_type": "code",
      "metadata": {
        "id": "XMd2SQsXviNi",
        "colab_type": "code",
        "colab": {
          "base_uri": "https://localhost:8080/",
          "height": 34
        },
        "outputId": "d77d634a-217c-4cd5-fb8e-35f41a467388"
      },
      "source": [
        "## 4. 넘파이 배열에서 요소 선택하기\n",
        "\n",
        "my_arr[0][2]    ## 가장 마지막 라인에는 print() 함수 생략 가능"
      ],
      "execution_count": 6,
      "outputs": [
        {
          "output_type": "execute_result",
          "data": {
            "text/plain": [
              "30"
            ]
          },
          "metadata": {
            "tags": []
          },
          "execution_count": 6
        }
      ]
    },
    {
      "cell_type": "code",
      "metadata": {
        "id": "nLsbW_k0vw_G",
        "colab_type": "code",
        "colab": {
          "base_uri": "https://localhost:8080/",
          "height": 34
        },
        "outputId": "d2123ee9-534e-4669-f4d6-d55e6755112d"
      },
      "source": [
        "## 5. 넘파이 내장 함수 사용하기\n",
        "\n",
        "np.sum(my_arr)"
      ],
      "execution_count": 7,
      "outputs": [
        {
          "output_type": "execute_result",
          "data": {
            "text/plain": [
              "210"
            ]
          },
          "metadata": {
            "tags": []
          },
          "execution_count": 7
        }
      ]
    },
    {
      "cell_type": "markdown",
      "metadata": {
        "id": "ZHjfFfl6v-Lg",
        "colab_type": "text"
      },
      "source": [
        "**What is Matplotlib?**\n",
        "- 파이썬에서 Matlab과 유사한 그래프 표시를 가능하게 하는 라이브러리\n",
        "\n",
        "#### Matplotlib으로 그래프 그리기"
      ]
    },
    {
      "cell_type": "code",
      "metadata": {
        "id": "VJBrFueLwR86",
        "colab_type": "code",
        "colab": {}
      },
      "source": [
        "## 1. 코랩에서 Matplotlib 임포트하기\n",
        "\n",
        "import matplotlib.pyplot as plt"
      ],
      "execution_count": 8,
      "outputs": []
    },
    {
      "cell_type": "code",
      "metadata": {
        "id": "f8ZV8tQEwktl",
        "colab_type": "code",
        "colab": {
          "base_uri": "https://localhost:8080/",
          "height": 265
        },
        "outputId": "a42bdd8d-4513-4f67-dc17-a285d051d727"
      },
      "source": [
        "## 2. 선 그래프 그리기\n",
        "\n",
        "plt.plot([1, 2, 3, 4, 5], [1, 4, 9, 16, 25])\n",
        "plt.show()"
      ],
      "execution_count": 9,
      "outputs": [
        {
          "output_type": "display_data",
          "data": {
            "image/png": "[encoded data removed]",
            "text/plain": [
              "<Figure size 432x288 with 1 Axes>"
            ]
          },
          "metadata": {
            "tags": [],
            "needs_background": "light"
          }
        }
      ]
    },
    {
      "cell_type": "code",
      "metadata": {
        "id": "c6yVYKwVwuXF",
        "colab_type": "code",
        "colab": {
          "base_uri": "https://localhost:8080/",
          "height": 265
        },
        "outputId": "64f5cb01-a232-46b8-d58d-112707e1e71f"
      },
      "source": [
        "## 3. 산점도 그리기\n",
        "\n",
        "plt.scatter([1, 2, 3, 4, 5], [1, 4, 9, 16, 25])\n",
        "plt.show()"
      ],
      "execution_count": 10,
      "outputs": [
        {
          "output_type": "display_data",
          "data": {
            "image/png": "[encoded data removed]",
            "text/plain": [
              "<Figure size 432x288 with 1 Axes>"
            ]
          },
          "metadata": {
            "tags": [],
            "needs_background": "light"
          }
        }
      ]
    },
    {
      "cell_type": "code",
      "metadata": {
        "id": "gcZA-H-iw34q",
        "colab_type": "code",
        "colab": {
          "base_uri": "https://localhost:8080/",
          "height": 265
        },
        "outputId": "406f633b-4b8f-4080-9cad-043f31fbeeec"
      },
      "source": [
        "## 4. 넘파이 배열로 산점도 그리기\n",
        "\n",
        "x = np.random.randn(1000) ## 표준 정규 분포를 따르는 난수 1000개 만들기\n",
        "y = np.random.randn(1000) ## 표준 정규 분포를 따르는 난수 1000개 만들기\n",
        "plt.scatter(x, y)\n",
        "plt.show()"
      ],
      "execution_count": 13,
      "outputs": [
        {
          "output_type": "display_data",
          "data": {
            "image/png": "[encoded data removed]",
            "text/plain": [
              "<Figure size 432x288 with 1 Axes>"
            ]
          },
          "metadata": {
            "tags": [],
            "needs_background": "light"
          }
        }
      ]
    }
  ]
}